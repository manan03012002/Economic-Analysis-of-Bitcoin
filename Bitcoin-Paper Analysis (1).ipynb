{
 "cells": [
  {
   "cell_type": "markdown",
   "id": "6fc6f8cd",
   "metadata": {},
   "source": [
    "# Economic Analysis of Bitcoin"
   ]
  },
  {
   "cell_type": "code",
   "execution_count": 126,
   "id": "8174e630",
   "metadata": {},
   "outputs": [],
   "source": [
    "#Regression Analysis of Bitcoin\n",
    "import pandas as pd\n",
    "import matplotlib.pyplot as plt\n",
    "import numpy as np\n",
    "%matplotlib inline\n",
    "import statsmodels.api as sm\n",
    "url = r\"C:\\Users\\Manan\\OneDrive\\Desktop\\Research Paprs\\Regression Analysis files\\Bitcoin Analysis.xlsx\"\n",
    "df = pd.read_excel(url,index_col = 'Date', parse_dates = True)"
   ]
  },
  {
   "cell_type": "code",
   "execution_count": 127,
   "id": "ca73cc19",
   "metadata": {},
   "outputs": [
    {
     "data": {
      "text/html": [
       "<div>\n",
       "<style scoped>\n",
       "    .dataframe tbody tr th:only-of-type {\n",
       "        vertical-align: middle;\n",
       "    }\n",
       "\n",
       "    .dataframe tbody tr th {\n",
       "        vertical-align: top;\n",
       "    }\n",
       "\n",
       "    .dataframe thead th {\n",
       "        text-align: right;\n",
       "    }\n",
       "</style>\n",
       "<table border=\"1\" class=\"dataframe\">\n",
       "  <thead>\n",
       "    <tr style=\"text-align: right;\">\n",
       "      <th></th>\n",
       "      <th>Bitcoin Pricing(USD)</th>\n",
       "      <th>3 (month) Treasury Bill Average</th>\n",
       "      <th>M2</th>\n",
       "      <th>Google Trends</th>\n",
       "    </tr>\n",
       "    <tr>\n",
       "      <th>Date</th>\n",
       "      <th></th>\n",
       "      <th></th>\n",
       "      <th></th>\n",
       "      <th></th>\n",
       "    </tr>\n",
       "  </thead>\n",
       "  <tbody>\n",
       "    <tr>\n",
       "      <th>2015-04-01</th>\n",
       "      <td>236.15</td>\n",
       "      <td>0.03</td>\n",
       "      <td>12022.950</td>\n",
       "      <td>2</td>\n",
       "    </tr>\n",
       "    <tr>\n",
       "      <th>2016-04-01</th>\n",
       "      <td>448.32</td>\n",
       "      <td>0.29</td>\n",
       "      <td>12791.525</td>\n",
       "      <td>3</td>\n",
       "    </tr>\n",
       "    <tr>\n",
       "      <th>2017-04-01</th>\n",
       "      <td>1347.89</td>\n",
       "      <td>0.74</td>\n",
       "      <td>13589.025</td>\n",
       "      <td>6</td>\n",
       "    </tr>\n",
       "    <tr>\n",
       "      <th>2018-04-01</th>\n",
       "      <td>9240.55</td>\n",
       "      <td>1.70</td>\n",
       "      <td>14078.760</td>\n",
       "      <td>18</td>\n",
       "    </tr>\n",
       "    <tr>\n",
       "      <th>2019-04-01</th>\n",
       "      <td>5350.73</td>\n",
       "      <td>2.40</td>\n",
       "      <td>14628.160</td>\n",
       "      <td>12</td>\n",
       "    </tr>\n",
       "  </tbody>\n",
       "</table>\n",
       "</div>"
      ],
      "text/plain": [
       "            Bitcoin Pricing(USD)  3 (month) Treasury Bill Average         M2  \\\n",
       "Date                                                                           \n",
       "2015-04-01                236.15                             0.03  12022.950   \n",
       "2016-04-01                448.32                             0.29  12791.525   \n",
       "2017-04-01               1347.89                             0.74  13589.025   \n",
       "2018-04-01               9240.55                             1.70  14078.760   \n",
       "2019-04-01               5350.73                             2.40  14628.160   \n",
       "\n",
       "            Google Trends   \n",
       "Date                        \n",
       "2015-04-01               2  \n",
       "2016-04-01               3  \n",
       "2017-04-01               6  \n",
       "2018-04-01              18  \n",
       "2019-04-01              12  "
      ]
     },
     "execution_count": 127,
     "metadata": {},
     "output_type": "execute_result"
    }
   ],
   "source": [
    "df.head()"
   ]
  },
  {
   "cell_type": "code",
   "execution_count": 179,
   "id": "37600e75",
   "metadata": {},
   "outputs": [],
   "source": [
    "#Standardising Data \n",
    "from sklearn.preprocessing import StandardScaler\n",
    "from sklearn.model_selection import train_test_split\n",
    "sc = StandardScaler()\n",
    "X = df.iloc[:,1:]\n",
    "Y = df.iloc[:,0]\n",
    "X_train, X_test, Y_train, Y_test = train_test_split(X, Y, test_size=0.2,shuffle = False)\n",
    "#X_train = sc.fit_transform(X_train)\n",
    "#X_test = sc.transform(X_test)"
   ]
  },
  {
   "cell_type": "code",
   "execution_count": 180,
   "id": "b1d72c67",
   "metadata": {},
   "outputs": [
    {
     "name": "stdout",
     "output_type": "stream",
     "text": [
      "            3 (month) Treasury Bill Average         M2  Google Trends \n",
      "Date                                                                  \n",
      "2015-04-01                             0.03  12022.950               2\n",
      "2016-04-01                             0.29  12791.525               3\n",
      "2017-04-01                             0.74  13589.025               6\n",
      "2018-04-01                             1.70  14078.760              18\n",
      "2019-04-01                             2.40  14628.160              12\n",
      "...                                     ...        ...             ...\n",
      "2015-11-01                             0.02  12288.040               4\n",
      "2016-11-01                             0.33  13190.750               4\n",
      "2017-11-01                             1.07  13818.125              45\n",
      "2018-11-01                             2.25  14242.100              14\n",
      "2019-11-01                             1.65  15238.725              11\n",
      "\n",
      "[88 rows x 3 columns]\n"
     ]
    }
   ],
   "source": [
    "print(X_train)"
   ]
  },
  {
   "cell_type": "code",
   "execution_count": 181,
   "id": "51d35582",
   "metadata": {},
   "outputs": [
    {
     "name": "stdout",
     "output_type": "stream",
     "text": [
      "            3 (month) Treasury Bill Average         M2  Google Trends \n",
      "Date                                                                  \n",
      "2020-11-01                             0.10  18950.400              23\n",
      "2021-11-01                             0.05  21291.340              34\n",
      "2022-11-01                             3.72  21398.425              26\n",
      "2023-11-01                             5.34  20746.800              20\n",
      "2015-10-01                             0.02  12158.000               3\n",
      "2016-10-01                             0.29  13071.160               3\n",
      "2017-10-01                             1.03  13744.220              22\n",
      "2018-10-01                             2.13  14199.920               9\n",
      "2019-10-01                             1.89  15108.375              12\n",
      "2020-10-01                             0.11  18655.475              14\n",
      "2021-10-01                             0.04  21064.900              35\n",
      "2022-10-01                             3.13  21394.500              17\n",
      "2023-10-01                             5.32  20674.800              18\n",
      "2015-09-01                             0.07  12139.025               2\n",
      "2016-09-01                             0.30  13013.475               3\n",
      "2017-09-01                             1.01  13699.125              21\n",
      "2018-09-01                             2.03  14198.800              11\n",
      "2019-09-01                             1.95  14978.500              12\n",
      "2020-09-01                             0.10  18536.925              12\n",
      "2021-09-01                             0.05  20909.650              31\n",
      "2022-09-01                             2.63  21485.325              21\n",
      "2023-09-01                             5.30  20703.775              15\n"
     ]
    }
   ],
   "source": [
    "print(X_test)"
   ]
  },
  {
   "cell_type": "code",
   "execution_count": 176,
   "id": "f70fd8fe",
   "metadata": {},
   "outputs": [
    {
     "data": {
      "text/html": [
       "<div>\n",
       "<style scoped>\n",
       "    .dataframe tbody tr th:only-of-type {\n",
       "        vertical-align: middle;\n",
       "    }\n",
       "\n",
       "    .dataframe tbody tr th {\n",
       "        vertical-align: top;\n",
       "    }\n",
       "\n",
       "    .dataframe thead th {\n",
       "        text-align: right;\n",
       "    }\n",
       "</style>\n",
       "<table border=\"1\" class=\"dataframe\">\n",
       "  <thead>\n",
       "    <tr style=\"text-align: right;\">\n",
       "      <th></th>\n",
       "      <th>Bitcoin Pricing(USD)</th>\n",
       "      <th>Google Trends</th>\n",
       "      <th>M2</th>\n",
       "    </tr>\n",
       "  </thead>\n",
       "  <tbody>\n",
       "    <tr>\n",
       "      <th>Bitcoin Pricing(USD)</th>\n",
       "      <td>1.000000</td>\n",
       "      <td>0.656783</td>\n",
       "      <td>0.855774</td>\n",
       "    </tr>\n",
       "    <tr>\n",
       "      <th>Google Trends</th>\n",
       "      <td>0.656783</td>\n",
       "      <td>1.000000</td>\n",
       "      <td>0.524952</td>\n",
       "    </tr>\n",
       "    <tr>\n",
       "      <th>M2</th>\n",
       "      <td>0.855774</td>\n",
       "      <td>0.524952</td>\n",
       "      <td>1.000000</td>\n",
       "    </tr>\n",
       "  </tbody>\n",
       "</table>\n",
       "</div>"
      ],
      "text/plain": [
       "                      Bitcoin Pricing(USD)  Google Trends         M2\n",
       "Bitcoin Pricing(USD)              1.000000        0.656783  0.855774\n",
       "Google Trends                     0.656783        1.000000  0.524952\n",
       "M2                                0.855774        0.524952  1.000000"
      ]
     },
     "execution_count": 176,
     "metadata": {},
     "output_type": "execute_result"
    }
   ],
   "source": [
    "import numpy as np\n",
    "import matplotlib.pyplot as plt\n",
    "import seaborn as sns\n",
    "df[['Bitcoin Pricing(USD)','Google Trends ','M2']].corr()"
   ]
  },
  {
   "cell_type": "code",
   "execution_count": 182,
   "id": "add0e19e",
   "metadata": {},
   "outputs": [
    {
     "name": "stdout",
     "output_type": "stream",
     "text": [
      "-44224.28345792902\n",
      "[-1366.1      3.46   227.15]\n"
     ]
    }
   ],
   "source": [
    "from sklearn.linear_model import LinearRegression\n",
    "from sklearn.metrics import r2_score \n",
    "\n",
    "lr = LinearRegression()\n",
    "\n",
    "a = lr.fit(X_train,Y_train)\n",
    "yhat = lr.predict(X_test)\n",
    "print(lr.intercept_)\n",
    "print(lr.coef_)"
   ]
  },
  {
   "cell_type": "code",
   "execution_count": 183,
   "id": "286e487f",
   "metadata": {},
   "outputs": [
    {
     "name": "stdout",
     "output_type": "stream",
     "text": [
      "                             OLS Regression Results                             \n",
      "================================================================================\n",
      "Dep. Variable:     Bitcoin Pricing(USD)   R-squared:                       0.836\n",
      "Model:                              OLS   Adj. R-squared:                  0.830\n",
      "Method:                   Least Squares   F-statistic:                     142.4\n",
      "Date:                  Sun, 07 Jul 2024   Prob (F-statistic):           7.66e-33\n",
      "Time:                          15:40:06   Log-Likelihood:                -895.31\n",
      "No. Observations:                    88   AIC:                             1799.\n",
      "Df Residuals:                        84   BIC:                             1809.\n",
      "Df Model:                             3                                         \n",
      "Covariance Type:              nonrobust                                         \n",
      "===================================================================================================\n",
      "                                      coef    std err          t      P>|t|      [0.025      0.975]\n",
      "---------------------------------------------------------------------------------------------------\n",
      "const                           -4.422e+04   3493.298    -12.660      0.000   -5.12e+04   -3.73e+04\n",
      "3 (month) Treasury Bill Average -1366.1022    514.557     -2.655      0.009   -2389.355    -342.849\n",
      "M2                                  3.4590      0.254     13.616      0.000       2.954       3.964\n",
      "Google Trends                     227.1522     47.881      4.744      0.000     131.936     322.369\n",
      "==============================================================================\n",
      "Omnibus:                       15.212   Durbin-Watson:                   2.499\n",
      "Prob(Omnibus):                  0.000   Jarque-Bera (JB):               37.815\n",
      "Skew:                           0.493   Prob(JB):                     6.15e-09\n",
      "Kurtosis:                       6.056   Cond. No.                     8.33e+04\n",
      "==============================================================================\n",
      "\n",
      "Notes:\n",
      "[1] Standard Errors assume that the covariance matrix of the errors is correctly specified.\n",
      "[2] The condition number is large, 8.33e+04. This might indicate that there are\n",
      "strong multicollinearity or other numerical problems.\n"
     ]
    }
   ],
   "source": [
    "\n",
    "X_train = sm.add_constant(X_train)\n",
    "\n",
    " #Fit the regression model\n",
    "model = sm.OLS(Y_train, X_train).fit()\n",
    "\n",
    " #Print the regression results\n",
    "print(model.summary())\n"
   ]
  },
  {
   "cell_type": "markdown",
   "id": "c94d993a",
   "metadata": {},
   "source": [
    "## R Squared "
   ]
  },
  {
   "cell_type": "code",
   "execution_count": 161,
   "id": "4a666c60",
   "metadata": {},
   "outputs": [
    {
     "data": {
      "text/plain": [
       "0.8357244344581172"
      ]
     },
     "execution_count": 161,
     "metadata": {},
     "output_type": "execute_result"
    }
   ],
   "source": [
    "lr.score(X_train,Y_train)"
   ]
  },
  {
   "cell_type": "markdown",
   "id": "3635bea0",
   "metadata": {},
   "source": [
    "# Predicting Algorithms \n"
   ]
  },
  {
   "cell_type": "code",
   "execution_count": 162,
   "id": "a48d7015",
   "metadata": {},
   "outputs": [
    {
     "name": "stdout",
     "output_type": "stream",
     "text": [
      "R-squared score on testing data: 0.6980671927814135\n",
      "[[26413.81 19625.84]\n",
      " [37078.2  57005.43]\n",
      " [30617.79 17168.57]\n",
      " [24787.8  37712.75]\n",
      " [-1515.13   314.17]\n",
      " [ 1274.68   700.97]\n",
      " [ 6907.79  6468.4 ]\n",
      " [ 4028.39  6317.61]\n",
      " [ 8180.09  9199.58]\n",
      " [23335.62 13781.  ]\n",
      " [36535.74 61318.96]\n",
      " [29365.85 20495.77]\n",
      " [24111.77 34667.78]\n",
      " [-1876.23   236.06]\n",
      " [ 1061.48   609.73]\n",
      " [ 6551.98  4338.71]\n",
      " [ 4615.43  6625.56]\n",
      " [ 7648.88  8293.87]\n",
      " [22484.91 10784.49]\n",
      " [35076.46 43790.89]\n",
      " [31271.68 19431.79]\n",
      " [23557.86 26967.92]]\n",
      "Mean Squared Error: 94342525.6623337\n"
     ]
    }
   ],
   "source": [
    "\n",
    "# Calculate R-squared score\n",
    "r2 = r2_score(Y_test,yhat)\n",
    "print(\"R-squared score on testing data:\", r2)\n",
    "yhat = lr.predict(X_test)\n",
    "np.set_printoptions(precision = 2 )\n",
    "\n",
    "# Convert Series to numpy array and reshape\n",
    "yhat_np = yhat.reshape(len(yhat), 1)\n",
    "Y_test_np = Y_test.reshape(len(Y_test), 1)\n",
    "\n",
    "# Concatenate arrays horizontally\n",
    "combined = np.concatenate((yhat_np, Y_test_np), axis=1)\n",
    "print(combined)\n",
    "mse = mean_squared_error(Y_test, yhat)\n",
    "print(\"Mean Squared Error:\", mse)"
   ]
  },
  {
   "cell_type": "markdown",
   "id": "eb0d68e4",
   "metadata": {},
   "source": [
    "# Support Vector Regression"
   ]
  },
  {
   "cell_type": "code",
   "execution_count": 163,
   "id": "8d103e79",
   "metadata": {},
   "outputs": [
    {
     "name": "stdout",
     "output_type": "stream",
     "text": [
      "SVR Metrics:\n",
      "Mean Squared Error: 216698813.72654188\n",
      "R-squared: 0.30647944084546885\n"
     ]
    }
   ],
   "source": [
    "import pandas as pd\n",
    "from sklearn.model_selection import train_test_split\n",
    "from sklearn.svm import SVR\n",
    "from sklearn.preprocessing import StandardScaler\n",
    "from sklearn.metrics import mean_squared_error, r2_score\n",
    "\n",
    "# Initialize the SVR model\n",
    "svr = SVR(kernel='linear', C=100, gamma='scale')\n",
    "\n",
    "# Train the SVR model on the scaled training data\n",
    "svr.fit(X_train, Y_train)\n",
    "\n",
    "# Make predictions using the testing set\n",
    "yhat = svr.predict(X_test)\n",
    "# Evaluate the model\n",
    "print('SVR Metrics:')\n",
    "print('Mean Squared Error:', mean_squared_error(Y_test, yhat))\n",
    "print('R-squared:', r2_score(Y_test, yhat))\n"
   ]
  },
  {
   "cell_type": "code",
   "execution_count": 164,
   "id": "d37b3d06",
   "metadata": {},
   "outputs": [
    {
     "name": "stdout",
     "output_type": "stream",
     "text": [
      "[[13024.59 19625.84]\n",
      " [17836.1  57005.43]\n",
      " [20958.34 17168.57]\n",
      " [21007.65 37712.75]\n",
      " [  628.2    314.17]\n",
      " [ 2180.31   700.97]\n",
      " [ 6848.37  6468.4 ]\n",
      " [ 6739.86  6317.61]\n",
      " [ 8160.65  9199.58]\n",
      " [11258.48 13781.  ]\n",
      " [17669.28 61318.96]\n",
      " [18901.8  20495.77]\n",
      " [20580.95 34667.78]\n",
      " [  506.68   236.06]\n",
      " [ 2113.22   609.73]\n",
      " [ 6611.2   4338.71]\n",
      " [ 6929.69  6625.56]\n",
      " [ 8052.5   8293.87]\n",
      " [10779.86 10784.49]\n",
      " [16857.79 43790.89]\n",
      " [19064.87 19431.79]\n",
      " [20138.83 26967.92]]\n"
     ]
    }
   ],
   "source": [
    "yhat = yhat.reshape(22,1)\n",
    "Y_test = Y_test.reshape(22,1)\n",
    "combined = np.concatenate((yhat, Y_test), axis=1)\n",
    "print(combined)\n"
   ]
  },
  {
   "cell_type": "code",
   "execution_count": 165,
   "id": "eb83e28a",
   "metadata": {},
   "outputs": [
    {
     "name": "stdout",
     "output_type": "stream",
     "text": [
      "SVR Intercept: [9874.71]\n",
      "SVR Support Vectors: [ 0  1  2  3  4  5  6  7  8  9 10 11 12 13 14 15 16 17 18 19 20 21 22 23\n",
      " 24 25 26 27 28 29 30 31 32 33 34 35 36 37 38 39 40 41 42 43 44 45 46 47\n",
      " 48 49 50 51 52 53 54 55 56 57 58 59 60 61 62 63 64 65 66 67 68 69 70 71\n",
      " 72 73 74 75 76 77 78 79 80 81 82 83 84 85 86 87]\n",
      "SVR Dual Coefficients: [[-100. -100. -100.  100. -100. -100.  100.  100.  100. -100. -100. -100.\n",
      "   100.  100.  100.  100.  100.  100.  100. -100. -100. -100. -100. -100.\n",
      "   100.  100. -100.  100.  100. -100. -100.  100. -100.  100.  100.  100.\n",
      "   100.  100. -100. -100. -100. -100.  100.  100.  100.  100. -100. -100.\n",
      "  -100.  100.  100.  100.  100.  100.  100.  100. -100. -100. -100.  100.\n",
      "  -100.  100. -100.  100. -100. -100. -100. -100. -100. -100.  100.  100.\n",
      "   100.  100. -100. -100.  100. -100. -100.  100.  100.  100.  100. -100.\n",
      "  -100. -100. -100. -100.]]\n"
     ]
    }
   ],
   "source": [
    "intercept_svr = svr.intercept_\n",
    "support_vectors_svr = svr.support_\n",
    "dual_coefficients_svr = svr.dual_coef_\n",
    "print(f\"SVR Intercept: {intercept_svr}\")\n",
    "print(f\"SVR Support Vectors: {support_vectors_svr}\")\n",
    "print(f\"SVR Dual Coefficients: {dual_coefficients_svr}\")"
   ]
  },
  {
   "cell_type": "markdown",
   "id": "849614a7",
   "metadata": {},
   "source": [
    "# Random Forest Regressor"
   ]
  },
  {
   "cell_type": "code",
   "execution_count": 166,
   "id": "5180c716",
   "metadata": {},
   "outputs": [
    {
     "name": "stdout",
     "output_type": "stream",
     "text": [
      "Mean Squared Error: 31185831.27713503\n",
      "R-squared: 0.9001932000776408\n",
      "[30898.64 44430.92 23031.05 35210.46   286.61   617.38  7849.59  5763.\n",
      "  7922.09 13941.31 44133.87 19229.89 34138.15   244.45   573.8   4698.29\n",
      "  7036.07  7914.88 11715.73 45512.32 21269.61 34145.78]\n"
     ]
    }
   ],
   "source": [
    "from sklearn.ensemble import RandomForestRegressor\n",
    "from sklearn.metrics import mean_squared_error, r2_score\n",
    "# Example of initializing RandomForestRegressor\n",
    "rf_regressor = RandomForestRegressor(n_estimators=100, random_state=42)\n",
    "rf_regressor.fit(X_train, Y_train)\n",
    "y_pred = rf_regressor.predict(X_test)\n",
    "# Calculate Mean Squared Error (MSE)\n",
    "mse = mean_squared_error(Y_test, y_pred)\n",
    "print(\"Mean Squared Error:\", mse)\n",
    "\n",
    "# Calculate R-squared\n",
    "r2 = r2_score(Y_test, y_pred)\n",
    "print(\"R-squared:\", r2)\n",
    "print(y_pred)"
   ]
  },
  {
   "cell_type": "code",
   "execution_count": 167,
   "id": "99457c4c",
   "metadata": {},
   "outputs": [
    {
     "name": "stdout",
     "output_type": "stream",
     "text": [
      "[[30898.64 19625.84]\n",
      " [44430.92 57005.43]\n",
      " [23031.05 17168.57]\n",
      " [35210.46 37712.75]\n",
      " [  286.61   314.17]\n",
      " [  617.38   700.97]\n",
      " [ 7849.59  6468.4 ]\n",
      " [ 5763.    6317.61]\n",
      " [ 7922.09  9199.58]\n",
      " [13941.31 13781.  ]\n",
      " [44133.87 61318.96]\n",
      " [19229.89 20495.77]\n",
      " [34138.15 34667.78]\n",
      " [  244.45   236.06]\n",
      " [  573.8    609.73]\n",
      " [ 4698.29  4338.71]\n",
      " [ 7036.07  6625.56]\n",
      " [ 7914.88  8293.87]\n",
      " [11715.73 10784.49]\n",
      " [45512.32 43790.89]\n",
      " [21269.61 19431.79]\n",
      " [34145.78 26967.92]]\n",
      "Feature Importances: [0.11 0.87 0.03]\n"
     ]
    }
   ],
   "source": [
    "y_pred = y_pred.reshape(22,1)\n",
    "Y_test = Y_test.reshape(22,1)\n",
    "combined = np.concatenate((y_pred, Y_test), axis=1)\n",
    "print(combined)\n",
    "feature_importances = rf_regressor.feature_importances_\n",
    "\n",
    "print(f\"Feature Importances: {feature_importances}\")"
   ]
  },
  {
   "cell_type": "markdown",
   "id": "3ff9dae3",
   "metadata": {},
   "source": [
    "# K Nearest Regressor"
   ]
  },
  {
   "cell_type": "code",
   "execution_count": 168,
   "id": "c1be7c8c",
   "metadata": {},
   "outputs": [
    {
     "data": {
      "text/plain": [
       "KNeighborsRegressor(n_neighbors=3)"
      ]
     },
     "execution_count": 168,
     "metadata": {},
     "output_type": "execute_result"
    }
   ],
   "source": [
    "from sklearn.neighbors import KNeighborsRegressor\n",
    "# Initialize KNN Regressor with a chosen number of neighbors (e.g., 5)\n",
    "knn_regressor = KNeighborsRegressor(n_neighbors=3)\n",
    "\n",
    "# Fit the model on the training data\n",
    "knn_regressor.fit(X_train, Y_train)"
   ]
  },
  {
   "cell_type": "code",
   "execution_count": 169,
   "id": "7f7e5f99",
   "metadata": {},
   "outputs": [],
   "source": [
    "y_pred = knn_regressor.predict(X_test)"
   ]
  },
  {
   "cell_type": "code",
   "execution_count": 170,
   "id": "c52f2cc6",
   "metadata": {},
   "outputs": [
    {
     "name": "stdout",
     "output_type": "stream",
     "text": [
      "Mean Squared Error: 22115362.81006212\n",
      "R-squared: 0.9292222300704684\n"
     ]
    }
   ],
   "source": [
    "mse = mean_squared_error(Y_test, y_pred)\n",
    "print(\"Mean Squared Error:\", mse)\n",
    "\n",
    "r2 = r2_score(Y_test, y_pred)\n",
    "print(\"R-squared:\", r2)\n"
   ]
  },
  {
   "cell_type": "code",
   "execution_count": null,
   "id": "5b5887fa",
   "metadata": {},
   "outputs": [],
   "source": []
  },
  {
   "cell_type": "code",
   "execution_count": null,
   "id": "fe8d4545",
   "metadata": {},
   "outputs": [],
   "source": []
  }
 ],
 "metadata": {
  "kernelspec": {
   "display_name": "Python 3 (ipykernel)",
   "language": "python",
   "name": "python3"
  },
  "language_info": {
   "codemirror_mode": {
    "name": "ipython",
    "version": 3
   },
   "file_extension": ".py",
   "mimetype": "text/x-python",
   "name": "python",
   "nbconvert_exporter": "python",
   "pygments_lexer": "ipython3",
   "version": "3.9.12"
  }
 },
 "nbformat": 4,
 "nbformat_minor": 5
}
